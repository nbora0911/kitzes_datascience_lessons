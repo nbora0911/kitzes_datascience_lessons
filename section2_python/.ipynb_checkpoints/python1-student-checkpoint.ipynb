{
 "cells": [
  {
   "cell_type": "markdown",
   "metadata": {},
   "source": [
    "# Scientific Programming I\n",
    "\n",
    "### Justin Kitzes  \n",
    "\n",
    "Thanks to Greg Wilson and Matt Davis for ideas."
   ]
  },
  {
   "cell_type": "markdown",
   "metadata": {},
   "source": [
    "## 1. Individual things\n",
    "\n",
    "The most basic component of any programming language are \"things\", also called variables or\n",
    "in some languages such as Python, objects.\n",
    "\n",
    "The most common basic \"things\" in Python are integers, floats, strings, booleans, and\n",
    "some special objects of various types. We'll meet many of these as we go through the lesson."
   ]
  },
  {
   "cell_type": "markdown",
   "metadata": {},
   "source": [
    "__TIP:__ To run the code in a cell quickly, press Ctrl+Enter. To run the code in a cell and then proceed to the next cell, press Ctrl+Shift. The Help menu above lists more shortcuts under the Keyboard Shortcuts menu item. You can also use the buttons under the menu to delete cells (use the Cut button), create new ones, move cells, etc."
   ]
  },
  {
   "cell_type": "code",
   "execution_count": 2,
   "metadata": {
    "collapsed": false
   },
   "outputs": [
    {
     "data": {
      "text/plain": [
       "(2, 'neha')"
      ]
     },
     "execution_count": 2,
     "metadata": {},
     "output_type": "execute_result"
    }
   ],
   "source": [
    "# A thing\n",
    "2, 'neha'"
   ]
  },
  {
   "cell_type": "code",
   "execution_count": 3,
   "metadata": {
    "collapsed": false
   },
   "outputs": [
    {
     "name": "stdout",
     "output_type": "stream",
     "text": [
      "2 string ['mouse', 3, 4, 5]\n"
     ]
    }
   ],
   "source": [
    "# Use print to show multiple things in the same cell\n",
    "print(2, 'string', ['mouse', 3,4,5])"
   ]
  },
  {
   "cell_type": "code",
   "execution_count": 6,
   "metadata": {
    "collapsed": false
   },
   "outputs": [],
   "source": [
    "# Things can be stored as variables\n",
    "x = 3\n",
    "string = 'neha'\n",
    "lst = [1,2,3,4,5,'kkdsfs']\n",
    "dictt = {'name': 'neha',\n",
    "         'age': 33,\n",
    "         'eyes': 'brown',\n",
    "        }\n",
    "tple = (1,'string', 's', {'a':1}, ['s',1,1,2])\n",
    "st = {1,2,3,4,44,4,4,55,5,5}"
   ]
  },
  {
   "cell_type": "code",
   "execution_count": 9,
   "metadata": {
    "collapsed": false
   },
   "outputs": [
    {
     "name": "stdout",
     "output_type": "stream",
     "text": [
      "3 <class 'int'>\n",
      "neha <class 'str'>\n",
      "[1, 2, 3, 4, 5, 'kkdsfs'] <class 'list'>\n",
      "{'name': 'neha', 'age': 33, 'eyes': 'brown'} <class 'dict'>\n",
      "(1, 'string', 's', {'a': 1}, ['s', 1, 1, 2]) <class 'tuple'>\n",
      "{1, 2, 3, 4, 5, 44, 55} <class 'set'>\n"
     ]
    }
   ],
   "source": [
    "# We can use type to determine what kind of thing we have\n",
    "print(x, type(x))\n",
    "print(string, type(string))\n",
    "print(lst, type(lst))\n",
    "print(dictt, type(dictt))\n",
    "print(tple, type(tple))\n",
    "print(st, type(st))"
   ]
  },
  {
   "cell_type": "markdown",
   "metadata": {},
   "source": [
    "## 2. Commands that operate on things\n",
    "\n",
    "While things are great, things by themselves aren't that much use to us. Right away, we'd like to start doing stuff, that is peforming operations, with various things. There are three common means of performing an operation on a thing."
   ]
  },
  {
   "cell_type": "markdown",
   "metadata": {},
   "source": [
    "### 2.1 Use an operator\n",
    "\n",
    "All of the basic math operators work like you think they should for numbers. They can also\n",
    "do some useful operations on other things, like strings. There are also boolean operators that\n",
    "compare quantities and give back a `bool` variable as a result."
   ]
  },
  {
   "cell_type": "code",
   "execution_count": 11,
   "metadata": {
    "collapsed": false
   },
   "outputs": [
    {
     "name": "stdout",
     "output_type": "stream",
     "text": [
      "3\n",
      "-1\n",
      "2\n",
      "0.5\n",
      "0\n",
      "1\n"
     ]
    }
   ],
   "source": [
    "# Standard math operators work as expected on numbers\n",
    "print(1+2)\n",
    "print(1-2)\n",
    "print(1*2)\n",
    "print(1/2)\n",
    "print(1//2)\n",
    "print(1%2)\n"
   ]
  },
  {
   "cell_type": "code",
   "execution_count": 15,
   "metadata": {
    "collapsed": false
   },
   "outputs": [
    {
     "name": "stdout",
     "output_type": "stream",
     "text": [
      "ab\n",
      "hellohellohello\n",
      "hello\n"
     ]
    }
   ],
   "source": [
    "# There are also operators for strings\n",
    "print('a' + 'b')\n",
    "print('hello'*3)\n",
    "print('hello')"
   ]
  },
  {
   "cell_type": "code",
   "execution_count": 28,
   "metadata": {
    "collapsed": false
   },
   "outputs": [
    {
     "name": "stdout",
     "output_type": "stream",
     "text": [
      "False\n",
      "True\n",
      "True\n",
      "False\n"
     ]
    }
   ],
   "source": [
    "# Boolean operators compare two things\n",
    "# a = 22\n",
    "# b = 2\n",
    "# s1 = 'neha'\n",
    "# s2 = 'neha'\n",
    "# print(a==b)\n",
    "# print(a/11 == b)\n",
    "# print(s1==s2[:2])\n",
    "# print(s1==s2)\n",
    "a = (1 > 3)\n",
    "b = (3 == 3)\n",
    "print(a)\n",
    "print(b)\n",
    "print(a or b)\n",
    "print(a and b)"
   ]
  },
  {
   "cell_type": "markdown",
   "metadata": {},
   "source": [
    "### 2.2 Use a function\n",
    "\n",
    "These will be very familiar to anyone who has programmed in any language, and work like you\n",
    "would expect."
   ]
  },
  {
   "cell_type": "code",
   "execution_count": 32,
   "metadata": {
    "collapsed": false
   },
   "outputs": [
    {
     "data": {
      "text/plain": [
       "(3, 5)"
      ]
     },
     "execution_count": 32,
     "metadata": {},
     "output_type": "execute_result"
    }
   ],
   "source": [
    "# There are thousands of functions that operate on things\n",
    "round(3.3), len([2, 44, 55, 6,7])\n"
   ]
  },
  {
   "cell_type": "markdown",
   "metadata": {},
   "source": [
    "__TIP:__ To find out what a function does, you can type it's name and then a question mark to\n",
    "get a pop up help window. The window will describe the function and also tell you what input parameters it takes. Parameters in square brackets are optional."
   ]
  },
  {
   "cell_type": "code",
   "execution_count": 33,
   "metadata": {
    "collapsed": false
   },
   "outputs": [
    {
     "data": {
      "text/plain": [
       "\u001b[0;31mSignature:\u001b[0m \u001b[0mlen\u001b[0m\u001b[0;34m(\u001b[0m\u001b[0mobj\u001b[0m\u001b[0;34m,\u001b[0m \u001b[0;34m/\u001b[0m\u001b[0;34m)\u001b[0m\u001b[0;34m\u001b[0m\u001b[0m\n",
       "\u001b[0;31mDocstring:\u001b[0m Return the number of items in a container.\n",
       "\u001b[0;31mType:\u001b[0m      builtin_function_or_method\n"
      ]
     },
     "metadata": {},
     "output_type": "display_data"
    }
   ],
   "source": [
    "len??\n"
   ]
  },
  {
   "cell_type": "markdown",
   "metadata": {},
   "source": [
    "__TIP:__ Many useful functions are not built in to core Python, but are found in external scientific packages. These need to be imported into your Python notebook (or program) before they can be used. In addition to functions, these external packages also often include new types of things, such as numeric arrays and data tables. We'll meet several of the most important scientific packages in the next lesson. When these packages are imported into Python, we usually refer to them as modules."
   ]
  },
  {
   "cell_type": "code",
   "execution_count": 79,
   "metadata": {
    "collapsed": false
   },
   "outputs": [
    {
     "data": {
      "text/plain": [
       "2"
      ]
     },
     "execution_count": 79,
     "metadata": {},
     "output_type": "execute_result"
    }
   ],
   "source": [
    "# Import the random module and use a function from it\n",
    "# After importing a module, use a '.' to look inside of it\n",
    "import numpy as np\n",
    "np.abs(-2)"
   ]
  },
  {
   "cell_type": "markdown",
   "metadata": {},
   "source": [
    "### 2.3 Use a method\n",
    "\n",
    "Before we get any farther into the Python language, we have to say a word about \"objects\". We\n",
    "will not be teaching object oriented programming in this workshop, but you will encounter objects throughout Python (in fact, even seemingly simple things like ints and strings are actually objects in Python).\n",
    "\n",
    "In the simplest terms, you can think of an object as a small bundled \"thing\" that contains within itself both data and functions that operate on that data. For example, strings in Python are objects that contain a set of characters and also various functions that operate on the set of characters. When bundled in an object, these functions are called \"methods\". The reason to bundle a function up as a method, instead of making it free floating, is that it makes it clear what kind of variable the function can operate on.\n",
    "\n",
    "Instead of the \"normal\" `function(arguments)` syntax, methods are called using the\n",
    "syntax `variable.method(arguments)`. Think of the '.' as short for \"look inside\"."
   ]
  },
  {
   "cell_type": "code",
   "execution_count": 39,
   "metadata": {
    "collapsed": false
   },
   "outputs": [],
   "source": [
    "# A string is an object\n",
    "a = 'string'"
   ]
  },
  {
   "cell_type": "code",
   "execution_count": 50,
   "metadata": {},
   "outputs": [
    {
     "data": {
      "text/plain": [
       "'  string  '"
      ]
     },
     "execution_count": 50,
     "metadata": {},
     "output_type": "execute_result"
    }
   ],
   "source": [
    "a.center(10)"
   ]
  },
  {
   "cell_type": "code",
   "execution_count": null,
   "metadata": {
    "collapsed": false
   },
   "outputs": [],
   "source": [
    "# Strings have many methods"
   ]
  },
  {
   "cell_type": "markdown",
   "metadata": {},
   "source": [
    "### EXERCISE 1 - Introducing logistic growth\n",
    "\n",
    "Throughout this lesson, we will successively build towards a program that will calculate the logistic growth of a population of bacteria in a petri dish (or bears in the woods, if you prefer). Logistic growth produces a classic S shaped curve in which a population initially grows very fast, then slows down over time until it reaches a steady state value known as the carrying capacity.\n",
    "\n",
    "For example, when there are only few bears in the woods and lost of food, they reproduce very fast. As the woods get full of bears and food gets harder to find, growth slows until the number of bears just balances with the amount of food (and hunters) in the woods, at which point the population stops growing.\n",
    "\n",
    "A commonly used discrete time equation for logistic population growth is\n",
    "\n",
    "$$ n_{t+1} = n_{t} + r n_{t} (1 - n_{t} / K) $$\n",
    "\n",
    "where $n_t$ is the population size at time $t$, $r$ is the maximum net per capita growth rate, and $K$ is the carrying capacity of the dish/woods.\n",
    "\n",
    "To get started, write Python expressions that do the following:\n",
    "\n",
    "1. Create variables for `r`, `K`, and `n0` (the population at time $t = 0$), setting these equal to 0.3, 100, and 10, respectively.\n",
    "1. Create the variable `n1` and calculate it's value. Do the same for `n2`.\n",
    "1. Check the type of `n2` - what is it?\n",
    "\n",
    "__Bonus__\n",
    "\n",
    "1. Figure out how to test whether `n2` is an integer (a mathematical integer, not necessarily\n",
    "whether it is an integer type) (HINT: look at the methods of `n2` by typing `n2.` and pressing\n",
    "tab.)\n",
    "1. Modify your calculations for `n1` and `n2` so that these values are rounded to the nearest\n",
    "integer. When you do so, you might notice that your answer to Bonus #1 above stops working --- why?"
   ]
  },
  {
   "cell_type": "code",
   "execution_count": 57,
   "metadata": {
    "collapsed": false
   },
   "outputs": [
    {
     "data": {
      "text/plain": [
       "(int, int, int)"
      ]
     },
     "execution_count": 57,
     "metadata": {},
     "output_type": "execute_result"
    }
   ],
   "source": [
    "r = 0.3\n",
    "K = 100\n",
    "n0 = 10\n",
    "n1 = round(n0 + r*n0*(1-n0/K))\n",
    "n2 = round(n1 + r*n1*(1-n1/K))\n",
    "type(n0), type(n1),type(n2)"
   ]
  },
  {
   "cell_type": "code",
   "execution_count": 67,
   "metadata": {},
   "outputs": [
    {
     "data": {
      "text/plain": [
       "13"
      ]
     },
     "execution_count": 67,
     "metadata": {},
     "output_type": "execute_result"
    }
   ],
   "source": [
    "n1."
   ]
  },
  {
   "cell_type": "code",
   "execution_count": 59,
   "metadata": {},
   "outputs": [
    {
     "ename": "AttributeError",
     "evalue": "'int' object has no attribute 'is_integer'",
     "output_type": "error",
     "traceback": [
      "\u001b[0;31m-------------------------------------------------------------------------\u001b[0m",
      "\u001b[0;31mAttributeError\u001b[0m                          Traceback (most recent call last)",
      "\u001b[0;32m<ipython-input-59-f32334590199>\u001b[0m in \u001b[0;36m<module>\u001b[0;34m()\u001b[0m\n\u001b[0;32m----> 1\u001b[0;31m \u001b[0mn1\u001b[0m\u001b[0;34m.\u001b[0m\u001b[0mis_integer\u001b[0m\u001b[0;34m(\u001b[0m\u001b[0;34m)\u001b[0m\u001b[0;34m\u001b[0m\u001b[0m\n\u001b[0m",
      "\u001b[0;31mAttributeError\u001b[0m: 'int' object has no attribute 'is_integer'"
     ]
    }
   ],
   "source": [
    "n1.is_integer()"
   ]
  },
  {
   "cell_type": "markdown",
   "metadata": {},
   "source": [
    "## 3. Collections of things\n",
    "\n",
    "Once the number of variables that you are interested in starts getting large, working with them all individually starts to get unwieldy. To help stay organized, we can use collections of things.\n",
    "\n",
    "There are many types of collections in Python, including lists, tuples, dictionaries, and numpy arrays. Here we'll look just at the most flexible and simplest container, the list. Lists are declared using square brackets []. You can get individual elements out of a list using the syntax `a[idx]`."
   ]
  },
  {
   "cell_type": "code",
   "execution_count": 80,
   "metadata": {
    "collapsed": false
   },
   "outputs": [
    {
     "data": {
      "text/plain": [
       "44"
      ]
     },
     "execution_count": 80,
     "metadata": {},
     "output_type": "execute_result"
    }
   ],
   "source": [
    "# Lists are created with square bracket syntax\n",
    "lst = [1, 2, 3, 44, 56, 22, 43, 10]\n",
    "lst[3]"
   ]
  },
  {
   "cell_type": "code",
   "execution_count": 81,
   "metadata": {
    "collapsed": false
   },
   "outputs": [
    {
     "data": {
      "text/plain": [
       "1"
      ]
     },
     "execution_count": 81,
     "metadata": {},
     "output_type": "execute_result"
    }
   ],
   "source": [
    "# Lists (and all collections) are also indexed with square brackets\n",
    "# NOTE: The first index is zero, not one\n",
    "lst[0]"
   ]
  },
  {
   "cell_type": "code",
   "execution_count": 84,
   "metadata": {},
   "outputs": [
    {
     "data": {
      "text/plain": [
       "[1, 2, 3, 44, 56, 22, 43]"
      ]
     },
     "execution_count": 84,
     "metadata": {},
     "output_type": "execute_result"
    }
   ],
   "source": [
    "lst"
   ]
  },
  {
   "cell_type": "code",
   "execution_count": 86,
   "metadata": {
    "collapsed": false
   },
   "outputs": [
    {
     "data": {
      "text/plain": [
       "[3, 1]"
      ]
     },
     "execution_count": 86,
     "metadata": {},
     "output_type": "execute_result"
    }
   ],
   "source": [
    "# Lists can be sliced by putting a colon between indexes\n",
    "# NOTE: The end value is not inclusive\n",
    "lst[2::-2]"
   ]
  },
  {
   "cell_type": "code",
   "execution_count": 87,
   "metadata": {
    "collapsed": false
   },
   "outputs": [
    {
     "data": {
      "text/plain": [
       "[1, 2, 3, 44, 56, 22]"
      ]
     },
     "execution_count": 87,
     "metadata": {},
     "output_type": "execute_result"
    }
   ],
   "source": [
    "# You can leave off the start or end if desired\n",
    "lst.pop()\n",
    "lst"
   ]
  },
  {
   "cell_type": "code",
   "execution_count": 88,
   "metadata": {},
   "outputs": [
    {
     "name": "stdout",
     "output_type": "stream",
     "text": [
      "[2, 3, 44, 56, 22]\n",
      "[1, 2]\n",
      "[22, 44, 2]\n",
      "[1, 3, 56]\n"
     ]
    }
   ],
   "source": [
    "print(lst[1:])\n",
    "print(lst[:2])\n",
    "print(lst[::-2])\n",
    "print(lst[::2])\n"
   ]
  },
  {
   "cell_type": "code",
   "execution_count": 97,
   "metadata": {
    "collapsed": false
   },
   "outputs": [
    {
     "ename": "AttributeError",
     "evalue": "'NoneType' object has no attribute 'reverse'",
     "output_type": "error",
     "traceback": [
      "\u001b[0;31m------------------------------------------------------------\u001b[0m",
      "\u001b[0;31mAttributeError\u001b[0m             Traceback (most recent call last)",
      "\u001b[0;32m<ipython-input-97-e7148fb1cfd2>\u001b[0m in \u001b[0;36m<module>\u001b[0;34m()\u001b[0m\n\u001b[1;32m      1\u001b[0m \u001b[0;31m# Lists are objects, like everything else, and have methods such as append\u001b[0m\u001b[0;34m\u001b[0m\u001b[0;34m\u001b[0m\u001b[0m\n\u001b[0;32m----> 2\u001b[0;31m \u001b[0mlst\u001b[0m\u001b[0;34m.\u001b[0m\u001b[0mreverse\u001b[0m\u001b[0;34m(\u001b[0m\u001b[0;34m)\u001b[0m\u001b[0;34m.\u001b[0m\u001b[0mreverse\u001b[0m\u001b[0;34m(\u001b[0m\u001b[0;34m)\u001b[0m\u001b[0;34m\u001b[0m\u001b[0m\n\u001b[0m",
      "\u001b[0;31mAttributeError\u001b[0m: 'NoneType' object has no attribute 'reverse'"
     ]
    }
   ],
   "source": [
    "# Lists are objects, like everything else, and have methods such as append\n",
    "lst.reverse()"
   ]
  },
  {
   "cell_type": "code",
   "execution_count": 98,
   "metadata": {},
   "outputs": [],
   "source": [
    "lst.reverse()"
   ]
  },
  {
   "cell_type": "code",
   "execution_count": 101,
   "metadata": {},
   "outputs": [],
   "source": [
    "lst.remove(1)"
   ]
  },
  {
   "cell_type": "code",
   "execution_count": 103,
   "metadata": {},
   "outputs": [],
   "source": [
    "lst.remove(56)"
   ]
  },
  {
   "cell_type": "code",
   "execution_count": 104,
   "metadata": {},
   "outputs": [
    {
     "data": {
      "text/plain": [
       "[22, 44, 3, 2]"
      ]
     },
     "execution_count": 104,
     "metadata": {},
     "output_type": "execute_result"
    }
   ],
   "source": [
    "lst"
   ]
  },
  {
   "cell_type": "markdown",
   "metadata": {},
   "source": [
    "### EXERCISE 2 - Storing population size in a list\n",
    "\n",
    "Copy your code from Exercise 1 into the box below, and do the following:\n",
    "\n",
    "1. Modify your code so that the values of `n0`, `n1`, and `n2` are stored in a list and not as\n",
    "separate individual variables. HINT: You can start off by declaring an empty list using the syntax\n",
    "`n = []`, and then append each new calculated value of `nt` to the list.\n",
    "1. Get the first and last values in the list, calculate their ratio, and print out \"Grew by a factor of \"\n",
    "followed by the result.\n",
    "\n",
    "__Bonus__\n",
    "\n",
    "1. Extract the last value in two different ways: first, by using the index for\n",
    "the last item in the list, and second, presuming that you do not know how long the list is."
   ]
  },
  {
   "cell_type": "code",
   "execution_count": 105,
   "metadata": {
    "collapsed": false
   },
   "outputs": [],
   "source": [
    "######################################\n",
    "# This code deletes our old variables\n",
    "try: del n0, n1, n2, r, K\n",
    "except: pass\n",
    "######################################"
   ]
  },
  {
   "cell_type": "code",
   "execution_count": 109,
   "metadata": {},
   "outputs": [],
   "source": [
    "r = 0.3\n",
    "K = 100\n",
    "n0 = 10\n",
    "# n1 = round(n0 + r*n0*(1-n0/K))\n",
    "# n2 = round(n1 + r*n1*(1-n1/K))\n",
    "# type(n0), type(n1),type(n2)"
   ]
  },
  {
   "cell_type": "code",
   "execution_count": 106,
   "metadata": {},
   "outputs": [],
   "source": [
    "def get_next_pop(n, K, r):\n",
    "    return round(n + r*n*(1-n/K))\n",
    "def get_increase_factor(lst):\n",
    "    return lst[-1]/lst[0]"
   ]
  },
  {
   "cell_type": "code",
   "execution_count": 112,
   "metadata": {},
   "outputs": [
    {
     "name": "stdout",
     "output_type": "stream",
     "text": [
      "Grew by a factor of= 1.3\n",
      "Grew by a factor of= 1.6\n",
      "Grew by a factor of= 2.0\n",
      "Grew by a factor of= 2.5\n",
      "Grew by a factor of= 3.1\n",
      "Grew by a factor of= 3.7\n",
      "Grew by a factor of= 4.4\n",
      "Grew by a factor of= 5.1\n",
      "Grew by a factor of= 5.8\n",
      "Grew by a factor of= 6.5\n"
     ]
    }
   ],
   "source": [
    "n = [n0]\n",
    "for j in range(10):\n",
    "    new_pop = get_next_pop(n[-1], K, r)\n",
    "    n.append(new_pop)\n",
    "    print(\"Grew by a factor of=\", get_increase_factor(n))"
   ]
  },
  {
   "cell_type": "code",
   "execution_count": null,
   "metadata": {},
   "outputs": [],
   "source": [
    "n = []\n"
   ]
  },
  {
   "cell_type": "markdown",
   "metadata": {},
   "source": [
    "## 4. Repeating yourself\n",
    "\n",
    "So far, everything that we've done could, in principle, be done by hand calculation. In this section and the next, we really start to take advantage of the power of programming languages to do things for us automatically.\n",
    "\n",
    "We start here with ways to repeat yourself. The two most common ways of doing this are known as for loops and while loops. For loops in Python are useful when you want to cycle over all of the items in a collection, such as a list, and while loops are useful when you want to cycle for an indefinite amount of time until some condition is met."
   ]
  },
  {
   "cell_type": "code",
   "execution_count": null,
   "metadata": {
    "collapsed": false
   },
   "outputs": [],
   "source": [
    "# A basic for loop - pay attention to the white space!"
   ]
  },
  {
   "cell_type": "code",
   "execution_count": 113,
   "metadata": {
    "collapsed": false
   },
   "outputs": [],
   "source": [
    "# Sum all of the values in a collection using a for loop\n",
    "sum_lst = 0\n",
    "for item in lst:\n",
    "    sum_lst += item "
   ]
  },
  {
   "cell_type": "code",
   "execution_count": 114,
   "metadata": {},
   "outputs": [
    {
     "data": {
      "text/plain": [
       "71"
      ]
     },
     "execution_count": 114,
     "metadata": {},
     "output_type": "execute_result"
    }
   ],
   "source": [
    "sum_lst"
   ]
  },
  {
   "cell_type": "code",
   "execution_count": 117,
   "metadata": {
    "collapsed": false
   },
   "outputs": [],
   "source": [
    "# Sometimes we want to loop over the indexes of a collection, not just the items\n",
    "\n",
    "for i in range(len(lst)):\n",
    "    sum_lst += lst[i]"
   ]
  },
  {
   "cell_type": "code",
   "execution_count": 123,
   "metadata": {
    "collapsed": false
   },
   "outputs": [
    {
     "name": "stdout",
     "output_type": "stream",
     "text": [
      "Grew by a factor of= 1.3\n",
      "Grew by a factor of= 1.6\n",
      "Grew by a factor of= 2.0\n",
      "Grew by a factor of= 2.5\n",
      "Grew by a factor of= 3.1\n",
      "Grew by a factor of= 3.7\n",
      "Grew by a factor of= 4.4\n",
      "Grew by a factor of= 5.1\n",
      "Grew by a factor of= 5.8\n",
      "Grew by a factor of= 6.5\n",
      "Grew by a factor of= 7.2\n",
      "Grew by a factor of= 7.8\n",
      "Grew by a factor of= 8.3\n",
      "Grew by a factor of= 8.7\n",
      "Grew by a factor of= 9.0\n",
      "Grew by a factor of= 9.3\n",
      "Grew by a factor of= 9.5\n",
      "Grew by a factor of= 9.6\n",
      "Grew by a factor of= 9.7\n",
      "Grew by a factor of= 9.8\n",
      "Grew by a factor of= 9.9\n",
      "Grew by a factor of= 9.9\n",
      "Grew by a factor of= 9.9\n",
      "Grew by a factor of= 9.9\n",
      "Grew by a factor of= 9.9\n",
      "Grew by a factor of= 9.9\n",
      "Grew by a factor of= 9.9\n",
      "Grew by a factor of= 9.9\n",
      "Grew by a factor of= 9.9\n",
      "Grew by a factor of= 9.9\n",
      "Grew by a factor of= 9.9\n",
      "Grew by a factor of= 9.9\n",
      "Grew by a factor of= 9.9\n",
      "Grew by a factor of= 9.9\n",
      "Grew by a factor of= 9.9\n",
      "Grew by a factor of= 9.9\n",
      "Grew by a factor of= 9.9\n",
      "Grew by a factor of= 9.9\n",
      "Grew by a factor of= 9.9\n",
      "Grew by a factor of= 9.9\n",
      "Grew by a factor of= 9.9\n",
      "Grew by a factor of= 9.9\n",
      "Grew by a factor of= 9.9\n",
      "Grew by a factor of= 9.9\n",
      "Grew by a factor of= 9.9\n",
      "Grew by a factor of= 9.9\n",
      "Grew by a factor of= 9.9\n",
      "Grew by a factor of= 9.9\n",
      "Grew by a factor of= 9.9\n"
     ]
    }
   ],
   "source": [
    "# While loops are useful when you don't know how many steps you will need,\n",
    "# and want to stop once a certain condition is met.\n",
    "n = [n0]\n",
    "while (n[-1] < K) & (len(n) < 50):\n",
    "    new_pop = get_next_pop(n[-1], K, r)\n",
    "    n.append(new_pop)\n",
    "    print(\"Grew by a factor of=\", get_increase_factor(n))\n"
   ]
  },
  {
   "cell_type": "markdown",
   "metadata": {},
   "source": [
    "__TIP:__ Once we start really generating useful and large collections of data, it becomes unwieldy to inspect our results manually. The code below shows how to make a very simple plot. We'll do more plotting later."
   ]
  },
  {
   "cell_type": "code",
   "execution_count": 121,
   "metadata": {
    "collapsed": false
   },
   "outputs": [
    {
     "name": "stdout",
     "output_type": "stream",
     "text": [
      "Populating the interactive namespace from numpy and matplotlib\n"
     ]
    }
   ],
   "source": [
    "# Jupyter notebook command to load plotting functions\n",
    "%pylab inline\n",
    "\n",
    "# Make some data and plot it"
   ]
  },
  {
   "cell_type": "markdown",
   "metadata": {},
   "source": [
    "### EXERCISE 3 - Using loops to repeat calculations\n",
    "\n",
    "Let's get smart about calculating our population size. Copy your code from Exercise 2 into the box below, and do the following:\n",
    "\n",
    "1. Write a for loop to calculate and store the values of `nt` for 100 time steps. HINT: Use the `range` function to pick the number of time steps. For each step, append the new population value to a list called `n`. What indexing strategy can you use to get the last value of the list each time around the for loop?\n",
    "1. Plot the population sizes in the list `n`.\n",
    "1. Play around with the values of `r` and `K` and see how it changes the plot. What happens if you set `r` to 1.9 or 3, or values in between?\n",
    "\n",
    "__Bonus__\n",
    "\n",
    "1. Modify your code to use a while loop that will stop your calculation after the population size exceeds 80. HINT: Start a step counter `i` at 1, and check that the population size is less than 80 each time around the loop. Increment the step counter within the loop so that you have a record of what step the calculation stopped at."
   ]
  },
  {
   "cell_type": "code",
   "execution_count": 124,
   "metadata": {
    "collapsed": false
   },
   "outputs": [
    {
     "data": {
      "text/plain": [
       "[<matplotlib.lines.Line2D at 0x1211266a0>]"
      ]
     },
     "execution_count": 124,
     "metadata": {},
     "output_type": "execute_result"
    },
    {
     "data": {
      "image/png": "[encoded data removed]",
      "text/plain": [
       "<Figure size 432x288 with 1 Axes>"
      ]
     },
     "metadata": {},
     "output_type": "display_data"
    }
   ],
   "source": [
    "plot(n)"
   ]
  },
  {
   "cell_type": "code",
   "execution_count": null,
   "metadata": {
    "collapsed": false
   },
   "outputs": [],
   "source": []
  },
  {
   "cell_type": "markdown",
   "metadata": {},
   "source": [
    "## 5. Making choices\n",
    "\n",
    "Often we want to check if a condition is True and take one action if it is, and another action if the condition is False. We can achieve this in Python with an if statement.\n",
    "\n",
    "__TIP:__ You can use any expression that returns a boolean value (True or False) in an if statement. Common boolean operators are ==, !=, <, <=, >, >=."
   ]
  },
  {
   "cell_type": "code",
   "execution_count": 125,
   "metadata": {
    "collapsed": false
   },
   "outputs": [
    {
     "name": "stdout",
     "output_type": "stream",
     "text": [
      "B\n"
     ]
    }
   ],
   "source": [
    "# A simple if statement\n",
    "x = 75\n",
    "if x> 80:\n",
    "    print('A')\n",
    "elif x > 70:\n",
    "    print('B')\n",
    "else:\n",
    "    print('C')\n",
    "    "
   ]
  },
  {
   "cell_type": "code",
   "execution_count": 127,
   "metadata": {
    "collapsed": true
   },
   "outputs": [
    {
     "name": "stdout",
     "output_type": "stream",
     "text": [
      "False\n"
     ]
    }
   ],
   "source": [
    "# If statements can also use boolean variables\n",
    "x = 1\n",
    "test = (x < 0)\n",
    "if test:\n",
    "    print('Test was true')\n",
    "else:\n",
    "    print('False')"
   ]
  },
  {
   "cell_type": "markdown",
   "metadata": {},
   "source": [
    "### EXERCISE 4 - Adding some randomness to the model\n",
    "\n",
    "Let's introduce some element of randomness into our population growth model. We'll model a simple \"catastrophe\" process, in which a catastrophe happens in 10% of the time steps that reduces the population back down to the initial size. Copy your code from Exercise 4 into the box below, and do the following:\n",
    "\n",
    "1. Inside your for loop, add a variable called `cata`, for catastrophe, that will be True if a catastrophe has occurred, and False if it hasn't. A simple way to do this is to generate a pseudorandom number between 0 and 1 using `rnd.random()`. Check whether this number is less than 0.1 - this check will be True 10% of the time.\n",
    "1. Using your boolean variable `cata`, add an if statement to your for loop that checks whether `cata` is true in each time step. If it is true, set the population back to the initial size. Otherwise, perform the usual logistic growth calculation.\n",
    "1. Plot your results. Run the cell again to see a different random population growth path.\n",
    "\n",
    "__Bonus__\n",
    "\n",
    "1. Count the number of time steps in your list `n` in which the population was above 50."
   ]
  },
  {
   "cell_type": "code",
   "execution_count": 129,
   "metadata": {
    "collapsed": false
   },
   "outputs": [
    {
     "data": {
      "text/plain": [
       "0.08930199285477813"
      ]
     },
     "execution_count": 129,
     "metadata": {},
     "output_type": "execute_result"
    }
   ],
   "source": [
    "import random as rnd\n"
   ]
  },
  {
   "cell_type": "code",
   "execution_count": 134,
   "metadata": {
    "collapsed": false
   },
   "outputs": [],
   "source": [
    "n = [n0]\n",
    "while (n[-1] < K) & (len(n) < 100):\n",
    "    cata = rnd.random()\n",
    "    if cata < 0.1:\n",
    "        new_pop = n[0]\n",
    "    else:\n",
    "        new_pop = get_next_pop(n[-1], K, r)\n",
    "    \n",
    "    n.append(new_pop)\n",
    "#     print(\"Grew by a factor of=\", get_increase_factor(n))\n",
    "    "
   ]
  },
  {
   "cell_type": "code",
   "execution_count": 135,
   "metadata": {},
   "outputs": [
    {
     "data": {
      "text/plain": [
       "[<matplotlib.lines.Line2D at 0x1213e0908>]"
      ]
     },
     "execution_count": 135,
     "metadata": {},
     "output_type": "execute_result"
    },
    {
     "data": {
      "image/png": "[encoded data removed]",
      "text/plain": [
       "<Figure size 432x288 with 1 Axes>"
      ]
     },
     "metadata": {},
     "output_type": "display_data"
    }
   ],
   "source": [
    "plot(n)"
   ]
  },
  {
   "cell_type": "code",
   "execution_count": 132,
   "metadata": {},
   "outputs": [
    {
     "data": {
      "text/plain": [
       "False"
      ]
     },
     "execution_count": 132,
     "metadata": {},
     "output_type": "execute_result"
    }
   ],
   "source": [
    "n"
   ]
  },
  {
   "cell_type": "markdown",
   "metadata": {},
   "source": [
    "## 6. Creating chunks with functions and modules\n",
    "\n",
    "One way to write a program is to simply string together commands, like the ones above, in one long file, and then to run that file to generate your results. This may work, but it can be cognitively difficult to follow the logic of programs written in this style. Also, it does not allow you to reuse your code easily - for example, what if we wanted to run our logistic growth model for several different choices of initial parameters?\n",
    "\n",
    "The most important ways to \"chunk\" code into more manageable pieces is to create functions and then to gather these functions into your own modules, and eventually packages. Below we will discuss how to create functions and modules. A third common type of \"chunk\" in Python is classes, but we will not be covering object-oriented programming in this workshop."
   ]
  },
  {
   "cell_type": "code",
   "execution_count": null,
   "metadata": {
    "collapsed": true
   },
   "outputs": [],
   "source": [
    "# It's very easy to write your own functions"
   ]
  },
  {
   "cell_type": "code",
   "execution_count": null,
   "metadata": {
    "collapsed": false
   },
   "outputs": [],
   "source": [
    "# Once a function is \"run\" and saved in memory, it's available just like any other function"
   ]
  },
  {
   "cell_type": "code",
   "execution_count": null,
   "metadata": {
    "collapsed": true
   },
   "outputs": [],
   "source": [
    "# It's useful to include docstrings to describe what your function does"
   ]
  },
  {
   "cell_type": "code",
   "execution_count": null,
   "metadata": {
    "collapsed": true
   },
   "outputs": [],
   "source": [
    "# All arguments must be present, or the function will return an error"
   ]
  },
  {
   "cell_type": "code",
   "execution_count": null,
   "metadata": {
    "collapsed": true
   },
   "outputs": [],
   "source": [
    "# Keyword arguments can be used to make some arguments optional by giving them a default value\n",
    "# All mandatory arguments must come first, in order"
   ]
  },
  {
   "cell_type": "markdown",
   "metadata": {},
   "source": [
    "### EXERCISE 6 - Creating a logistic growth function\n",
    "\n",
    "Finally, let's turn our logistic growth model into a function that we can use over and over again. Copy your code from Exercise 5 into the box below, and do the following:\n",
    "\n",
    "1. Turn your code into a function called `logistic_growth` that takes four arguments: `r`, `K`, `n0`, and `p` (the probability of a catastrophe). Make `p` a keyword argument with a default value of 0.1. Have your function return the `n` list of population sizes.\n",
    "1. In a subsequent cell, call your function with different values of the parameters to make sure it works. Store the returned value of `n` and make a plot from it.\n",
    "\n",
    "__Bonus__\n",
    "\n",
    "1. Refactor your function by pulling out the line that actually performs the calculation of the new population given the old population. Make this line another function called `grow_one_step` that takes in the old population, `r`, and `K`, and returns the new population. Have your `logistic_growth` function use the `grow_one_step` function to calculate the new population in each time step."
   ]
  },
  {
   "cell_type": "code",
   "execution_count": 136,
   "metadata": {
    "collapsed": true
   },
   "outputs": [],
   "source": [
    "def logistic_growth(n0, K, r, p, steps):\n",
    "    n = [n0]\n",
    "    while len(n) < steps:\n",
    "        cata = rnd.random()\n",
    "        if cata < p:\n",
    "            new_pop = n[0]\n",
    "        else:\n",
    "            new_pop = get_next_pop(n[-1], K, r)\n",
    "\n",
    "        n.append(new_pop)\n",
    "    return n"
   ]
  },
  {
   "cell_type": "code",
   "execution_count": 138,
   "metadata": {},
   "outputs": [],
   "source": [
    "ts_pop = logistic_growth(n0, K, r, 0.1, 100)"
   ]
  },
  {
   "cell_type": "code",
   "execution_count": 140,
   "metadata": {},
   "outputs": [
    {
     "data": {
      "text/plain": [
       "[<matplotlib.lines.Line2D at 0x1213627b8>]"
      ]
     },
     "execution_count": 140,
     "metadata": {},
     "output_type": "execute_result"
    },
    {
     "data": {
      "image/png": "[encoded data removed]",
      "text/plain": [
       "<Figure size 432x288 with 1 Axes>"
      ]
     },
     "metadata": {},
     "output_type": "display_data"
    }
   ],
   "source": [
    "plot(ts_pop)"
   ]
  },
  {
   "cell_type": "code",
   "execution_count": null,
   "metadata": {},
   "outputs": [],
   "source": []
  }
 ],
 "metadata": {
  "kernelspec": {
   "display_name": "Python 3",
   "language": "python",
   "name": "python3"
  },
  "language_info": {
   "codemirror_mode": {
    "name": "ipython",
    "version": 3
   },
   "file_extension": ".py",
   "mimetype": "text/x-python",
   "name": "python",
   "nbconvert_exporter": "python",
   "pygments_lexer": "ipython3",
   "version": "3.6.4"
  }
 },
 "nbformat": 4,
 "nbformat_minor": 2
}
